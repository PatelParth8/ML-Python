{
 "cells": [
  {
   "cell_type": "code",
   "execution_count": 12,
   "id": "f8aff7d2-bda1-4d38-84c7-bec0a26c993e",
   "metadata": {},
   "outputs": [],
   "source": [
    "from numpy import random"
   ]
  },
  {
   "cell_type": "code",
   "execution_count": 15,
   "id": "b7cfdf9c-cf6f-4cfa-85bb-b03f21725960",
   "metadata": {},
   "outputs": [
    {
     "name": "stdout",
     "output_type": "stream",
     "text": [
      "87\n"
     ]
    }
   ],
   "source": [
    "#Generate Random Number\n",
    "a = random.randint(100)\n",
    "print(a)"
   ]
  },
  {
   "cell_type": "code",
   "execution_count": 16,
   "id": "fc4b1d78-31a9-4569-ad1c-a28376ba98b7",
   "metadata": {},
   "outputs": [
    {
     "name": "stdout",
     "output_type": "stream",
     "text": [
      "0.28726266077181106\n"
     ]
    }
   ],
   "source": [
    "#Generate Random Float\n",
    "a = random.rand()\n",
    "print(a)"
   ]
  },
  {
   "cell_type": "code",
   "execution_count": 17,
   "id": "f3d93155-dc14-4732-948e-b0d95d2d095b",
   "metadata": {},
   "outputs": [
    {
     "name": "stdout",
     "output_type": "stream",
     "text": [
      "[30 29 67 32 42]\n"
     ]
    }
   ],
   "source": [
    "#Generate Random Array\n",
    "a = random.randint(100, size=(5))\n",
    "print(a)"
   ]
  },
  {
   "cell_type": "code",
   "execution_count": 19,
   "id": "e7e7d6c4-4341-4e28-b7a5-1d4a52bb2ed1",
   "metadata": {},
   "outputs": [
    {
     "name": "stdout",
     "output_type": "stream",
     "text": [
      "[[25 42  4 33 64]\n",
      " [98 41 12  9 47]\n",
      " [71 25 22 47 91]]\n"
     ]
    }
   ],
   "source": [
    "#3 rows and 5 columns\n",
    "a = random.randint(100, size=(3,5))\n",
    "print(a)"
   ]
  },
  {
   "cell_type": "code",
   "execution_count": 21,
   "id": "3eacd96c-147f-46b8-8e15-ceef82e033fe",
   "metadata": {},
   "outputs": [
    {
     "name": "stdout",
     "output_type": "stream",
     "text": [
      "[0.93675544 0.0379609  0.9770788  0.85074612 0.22959669]\n"
     ]
    }
   ],
   "source": [
    "#Floats\n",
    "a = random.rand(5)\n",
    "print(a)"
   ]
  },
  {
   "cell_type": "code",
   "execution_count": 22,
   "id": "90c5720d-369d-40ff-97dd-264f71c2ae10",
   "metadata": {},
   "outputs": [
    {
     "name": "stdout",
     "output_type": "stream",
     "text": [
      "[[0.67510136 0.78211664 0.39650337 0.15808892 0.58822045]\n",
      " [0.41201481 0.9936451  0.77662465 0.63740496 0.36921389]\n",
      " [0.34759702 0.87878586 0.13223286 0.22349172 0.57183278]]\n"
     ]
    }
   ],
   "source": [
    "a = random.rand(3, 5)\n",
    "print(a)"
   ]
  },
  {
   "cell_type": "code",
   "execution_count": 23,
   "id": "ac71452d-ffb3-41fa-954f-73d6b8c2f9fc",
   "metadata": {},
   "outputs": [
    {
     "name": "stdout",
     "output_type": "stream",
     "text": [
      "5\n"
     ]
    }
   ],
   "source": [
    "#Generate Random Number from Array\n",
    "a = random.choice([3,5,7,9])\n",
    "print(a)"
   ]
  },
  {
   "cell_type": "code",
   "execution_count": 24,
   "id": "facefeae-8a2b-4c4c-8a3e-4f519da15f0a",
   "metadata": {},
   "outputs": [
    {
     "name": "stdout",
     "output_type": "stream",
     "text": [
      "[[9 5 5 9 5]\n",
      " [5 5 7 3 5]\n",
      " [9 5 9 9 7]]\n"
     ]
    }
   ],
   "source": [
    "a = random.choice([3,5,7,9], size=(3, 5))\n",
    "print(a)"
   ]
  },
  {
   "cell_type": "code",
   "execution_count": 25,
   "id": "cf8a421e-621b-4b46-a096-66375b1f9fd1",
   "metadata": {},
   "outputs": [
    {
     "name": "stdout",
     "output_type": "stream",
     "text": [
      "[5 5 5 3 5 7 3 7 7 3 7 5 7 7 7 7 7 7 5 5 7 5 3 3 7 7 7 7 7 5 5 5 5 7 7 7 5\n",
      " 7 7 7 7 7 7 7 5 7 5 3 7 5 5 3 7 7 7 5 5 5 7 7 7 7 7 3 7 7 5 7 5 5 5 7 5 7\n",
      " 3 3 7 7 3 3 7 3 5 7 7 7 5 5 3 3 5 7 7 5 7 7 7 7 7 5]\n"
     ]
    }
   ],
   "source": [
    "#Random Distribution\n",
    "a = random.choice([3,5,7,9], p=[0.1, 0.3, 0.6, 0.0], size=(100))\n",
    "print(a)"
   ]
  },
  {
   "cell_type": "code",
   "execution_count": 27,
   "id": "09b92ad8-0abb-44d5-87b1-1555c5ffac2c",
   "metadata": {},
   "outputs": [
    {
     "name": "stdout",
     "output_type": "stream",
     "text": [
      "[[5 5 5 5 7]\n",
      " [7 3 7 5 7]\n",
      " [7 5 5 7 7]]\n"
     ]
    }
   ],
   "source": [
    "a = random.choice([3,5,7,9], p=[0.1, 0.3, 0.6, 0.0], size=(3, 5))\n",
    "print(a)"
   ]
  },
  {
   "cell_type": "code",
   "execution_count": null,
   "id": "4b09bf28-9d6a-4001-9341-124fb4808072",
   "metadata": {},
   "outputs": [],
   "source": []
  }
 ],
 "metadata": {
  "kernelspec": {
   "display_name": "Python 3 (ipykernel)",
   "language": "python",
   "name": "python3"
  },
  "language_info": {
   "codemirror_mode": {
    "name": "ipython",
    "version": 3
   },
   "file_extension": ".py",
   "mimetype": "text/x-python",
   "name": "python",
   "nbconvert_exporter": "python",
   "pygments_lexer": "ipython3",
   "version": "3.11.1"
  }
 },
 "nbformat": 4,
 "nbformat_minor": 5
}
