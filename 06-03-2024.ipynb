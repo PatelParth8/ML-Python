{
 "cells": [
  {
   "cell_type": "code",
   "execution_count": 1,
   "id": "20bfa869-1357-4f82-be8c-751821c2786b",
   "metadata": {},
   "outputs": [],
   "source": [
    "import numpy as np\n",
    "import pandas as pd\n",
    "import matplotlib.pyplot as plt"
   ]
  },
  {
   "cell_type": "code",
   "execution_count": 2,
   "id": "0678fa0d-961c-47da-b538-a467fef7a567",
   "metadata": {},
   "outputs": [
    {
     "data": {
      "text/html": [
       "<div>\n",
       "<style scoped>\n",
       "    .dataframe tbody tr th:only-of-type {\n",
       "        vertical-align: middle;\n",
       "    }\n",
       "\n",
       "    .dataframe tbody tr th {\n",
       "        vertical-align: top;\n",
       "    }\n",
       "\n",
       "    .dataframe thead th {\n",
       "        text-align: right;\n",
       "    }\n",
       "</style>\n",
       "<table border=\"1\" class=\"dataframe\">\n",
       "  <thead>\n",
       "    <tr style=\"text-align: right;\">\n",
       "      <th></th>\n",
       "      <th>Make</th>\n",
       "      <th>Year</th>\n",
       "      <th>Price</th>\n",
       "      <th>Milage</th>\n",
       "      <th>FuelType</th>\n",
       "      <th>BodyType</th>\n",
       "      <th>EngineSize</th>\n",
       "    </tr>\n",
       "  </thead>\n",
       "  <tbody>\n",
       "    <tr>\n",
       "      <th>0</th>\n",
       "      <td>Toyota</td>\n",
       "      <td>2010.0</td>\n",
       "      <td>2500000.0</td>\n",
       "      <td>18.0</td>\n",
       "      <td>Petrol</td>\n",
       "      <td>Sedan</td>\n",
       "      <td>1.0 L</td>\n",
       "    </tr>\n",
       "    <tr>\n",
       "      <th>1</th>\n",
       "      <td>Honda</td>\n",
       "      <td>2012.0</td>\n",
       "      <td>2000000.0</td>\n",
       "      <td>20.0</td>\n",
       "      <td>Diesel</td>\n",
       "      <td>SUV (Sport Utility Vehicle)</td>\n",
       "      <td>1.5 L</td>\n",
       "    </tr>\n",
       "    <tr>\n",
       "      <th>2</th>\n",
       "      <td>Ford</td>\n",
       "      <td>2015.0</td>\n",
       "      <td>1800000.0</td>\n",
       "      <td>22.0</td>\n",
       "      <td>Electric</td>\n",
       "      <td>Hatchback</td>\n",
       "      <td>2.0 L</td>\n",
       "    </tr>\n",
       "    <tr>\n",
       "      <th>3</th>\n",
       "      <td>Chevrolet</td>\n",
       "      <td>2018.0</td>\n",
       "      <td>2200000.0</td>\n",
       "      <td>25.0</td>\n",
       "      <td>CNG</td>\n",
       "      <td>Coupe</td>\n",
       "      <td>2.5 L</td>\n",
       "    </tr>\n",
       "    <tr>\n",
       "      <th>4</th>\n",
       "      <td>Volkswagen</td>\n",
       "      <td>2022.0</td>\n",
       "      <td>NaN</td>\n",
       "      <td>24.0</td>\n",
       "      <td>Hybrid</td>\n",
       "      <td>Convertible</td>\n",
       "      <td>3.0 L</td>\n",
       "    </tr>\n",
       "    <tr>\n",
       "      <th>5</th>\n",
       "      <td>NaN</td>\n",
       "      <td>2022.0</td>\n",
       "      <td>2500000.0</td>\n",
       "      <td>18.0</td>\n",
       "      <td>Petrol</td>\n",
       "      <td>Wagon</td>\n",
       "      <td>3.5 L</td>\n",
       "    </tr>\n",
       "    <tr>\n",
       "      <th>6</th>\n",
       "      <td>BMW</td>\n",
       "      <td>2023.0</td>\n",
       "      <td>2000000.0</td>\n",
       "      <td>20.0</td>\n",
       "      <td>Diesel</td>\n",
       "      <td>Truck</td>\n",
       "      <td>4.0 L</td>\n",
       "    </tr>\n",
       "    <tr>\n",
       "      <th>7</th>\n",
       "      <td>Audi</td>\n",
       "      <td>2000.0</td>\n",
       "      <td>1800000.0</td>\n",
       "      <td>22.0</td>\n",
       "      <td>Electric</td>\n",
       "      <td>Van</td>\n",
       "      <td>4.5 L</td>\n",
       "    </tr>\n",
       "    <tr>\n",
       "      <th>8</th>\n",
       "      <td>Mercedes-Benz</td>\n",
       "      <td>2000.0</td>\n",
       "      <td>2200000.0</td>\n",
       "      <td>25.0</td>\n",
       "      <td>CNG</td>\n",
       "      <td>Minivan</td>\n",
       "      <td>5.0 L</td>\n",
       "    </tr>\n",
       "    <tr>\n",
       "      <th>9</th>\n",
       "      <td>NaN</td>\n",
       "      <td>2015.0</td>\n",
       "      <td>NaN</td>\n",
       "      <td>24.0</td>\n",
       "      <td>Hybrid</td>\n",
       "      <td>Pickup</td>\n",
       "      <td>5.5 L</td>\n",
       "    </tr>\n",
       "    <tr>\n",
       "      <th>10</th>\n",
       "      <td>Toyota</td>\n",
       "      <td>NaN</td>\n",
       "      <td>2500000.0</td>\n",
       "      <td>18.0</td>\n",
       "      <td>Petrol</td>\n",
       "      <td>Sedan</td>\n",
       "      <td>1.0 L</td>\n",
       "    </tr>\n",
       "    <tr>\n",
       "      <th>11</th>\n",
       "      <td>Honda</td>\n",
       "      <td>2019.0</td>\n",
       "      <td>2000000.0</td>\n",
       "      <td>20.0</td>\n",
       "      <td>Diesel</td>\n",
       "      <td>SUV (Sport Utility Vehicle)</td>\n",
       "      <td>1.5 L</td>\n",
       "    </tr>\n",
       "    <tr>\n",
       "      <th>12</th>\n",
       "      <td>Ford</td>\n",
       "      <td>2022.0</td>\n",
       "      <td>1800000.0</td>\n",
       "      <td>22.0</td>\n",
       "      <td>Electric</td>\n",
       "      <td>Hatchback</td>\n",
       "      <td>2.0 L</td>\n",
       "    </tr>\n",
       "    <tr>\n",
       "      <th>13</th>\n",
       "      <td>Chevrolet</td>\n",
       "      <td>2019.0</td>\n",
       "      <td>2200000.0</td>\n",
       "      <td>NaN</td>\n",
       "      <td>CNG</td>\n",
       "      <td>Coupe</td>\n",
       "      <td>2.5 L</td>\n",
       "    </tr>\n",
       "    <tr>\n",
       "      <th>14</th>\n",
       "      <td>Volkswagen</td>\n",
       "      <td>2018.0</td>\n",
       "      <td>2500000.0</td>\n",
       "      <td>24.0</td>\n",
       "      <td>Hybrid</td>\n",
       "      <td>Convertible</td>\n",
       "      <td>3.0 L</td>\n",
       "    </tr>\n",
       "    <tr>\n",
       "      <th>15</th>\n",
       "      <td>Nissan</td>\n",
       "      <td>2018.0</td>\n",
       "      <td>2000000.0</td>\n",
       "      <td>18.0</td>\n",
       "      <td>Petrol</td>\n",
       "      <td>Wagon</td>\n",
       "      <td>3.5 L</td>\n",
       "    </tr>\n",
       "    <tr>\n",
       "      <th>16</th>\n",
       "      <td>BMW</td>\n",
       "      <td>2018.0</td>\n",
       "      <td>1800000.0</td>\n",
       "      <td>20.0</td>\n",
       "      <td>Diesel</td>\n",
       "      <td>Truck</td>\n",
       "      <td>4.0 L</td>\n",
       "    </tr>\n",
       "    <tr>\n",
       "      <th>17</th>\n",
       "      <td>Audi</td>\n",
       "      <td>2015.0</td>\n",
       "      <td>2200000.0</td>\n",
       "      <td>22.0</td>\n",
       "      <td>Electric</td>\n",
       "      <td>Van</td>\n",
       "      <td>4.5 L</td>\n",
       "    </tr>\n",
       "    <tr>\n",
       "      <th>18</th>\n",
       "      <td>Mercedes-Benz</td>\n",
       "      <td>2015.0</td>\n",
       "      <td>2500000.0</td>\n",
       "      <td>NaN</td>\n",
       "      <td>CNG</td>\n",
       "      <td>Minivan</td>\n",
       "      <td>5.0 L</td>\n",
       "    </tr>\n",
       "    <tr>\n",
       "      <th>19</th>\n",
       "      <td>Hyundai</td>\n",
       "      <td>2019.0</td>\n",
       "      <td>2000000.0</td>\n",
       "      <td>24.0</td>\n",
       "      <td>Hybrid</td>\n",
       "      <td>Pickup</td>\n",
       "      <td>5.5 L</td>\n",
       "    </tr>\n",
       "    <tr>\n",
       "      <th>20</th>\n",
       "      <td>Toyota</td>\n",
       "      <td>2022.0</td>\n",
       "      <td>1800000.0</td>\n",
       "      <td>18.0</td>\n",
       "      <td>Petrol</td>\n",
       "      <td>Sedan</td>\n",
       "      <td>1.0 L</td>\n",
       "    </tr>\n",
       "    <tr>\n",
       "      <th>21</th>\n",
       "      <td>Honda</td>\n",
       "      <td>2019.0</td>\n",
       "      <td>2200000.0</td>\n",
       "      <td>20.0</td>\n",
       "      <td>Diesel</td>\n",
       "      <td>SUV (Sport Utility Vehicle)</td>\n",
       "      <td>1.5 L</td>\n",
       "    </tr>\n",
       "    <tr>\n",
       "      <th>22</th>\n",
       "      <td>Ford</td>\n",
       "      <td>2018.0</td>\n",
       "      <td>NaN</td>\n",
       "      <td>22.0</td>\n",
       "      <td>Electric</td>\n",
       "      <td>Hatchback</td>\n",
       "      <td>2.0 L</td>\n",
       "    </tr>\n",
       "    <tr>\n",
       "      <th>23</th>\n",
       "      <td>Chevrolet</td>\n",
       "      <td>2018.0</td>\n",
       "      <td>2500000.0</td>\n",
       "      <td>25.0</td>\n",
       "      <td>CNG</td>\n",
       "      <td>Coupe</td>\n",
       "      <td>2.5 L</td>\n",
       "    </tr>\n",
       "    <tr>\n",
       "      <th>24</th>\n",
       "      <td>Volkswagen</td>\n",
       "      <td>NaN</td>\n",
       "      <td>2000000.0</td>\n",
       "      <td>24.0</td>\n",
       "      <td>Hybrid</td>\n",
       "      <td>Convertible</td>\n",
       "      <td>3.0 L</td>\n",
       "    </tr>\n",
       "    <tr>\n",
       "      <th>25</th>\n",
       "      <td>Nissan</td>\n",
       "      <td>NaN</td>\n",
       "      <td>1800000.0</td>\n",
       "      <td>NaN</td>\n",
       "      <td>Petrol</td>\n",
       "      <td>Wagon</td>\n",
       "      <td>3.5 L</td>\n",
       "    </tr>\n",
       "    <tr>\n",
       "      <th>26</th>\n",
       "      <td>BMW</td>\n",
       "      <td>2019.0</td>\n",
       "      <td>2200000.0</td>\n",
       "      <td>18.0</td>\n",
       "      <td>Diesel</td>\n",
       "      <td>Truck</td>\n",
       "      <td>4.0 L</td>\n",
       "    </tr>\n",
       "    <tr>\n",
       "      <th>27</th>\n",
       "      <td>Audi</td>\n",
       "      <td>2022.0</td>\n",
       "      <td>NaN</td>\n",
       "      <td>20.0</td>\n",
       "      <td>Electric</td>\n",
       "      <td>Van</td>\n",
       "      <td>4.5 L</td>\n",
       "    </tr>\n",
       "    <tr>\n",
       "      <th>28</th>\n",
       "      <td>Mercedes-Benz</td>\n",
       "      <td>2019.0</td>\n",
       "      <td>2500000.0</td>\n",
       "      <td>22.0</td>\n",
       "      <td>CNG</td>\n",
       "      <td>Minivan</td>\n",
       "      <td>5.0 L</td>\n",
       "    </tr>\n",
       "    <tr>\n",
       "      <th>29</th>\n",
       "      <td>Hyundai</td>\n",
       "      <td>2018.0</td>\n",
       "      <td>2000000.0</td>\n",
       "      <td>25.0</td>\n",
       "      <td>Hybrid</td>\n",
       "      <td>Pickup</td>\n",
       "      <td>5.5 L</td>\n",
       "    </tr>\n",
       "    <tr>\n",
       "      <th>30</th>\n",
       "      <td>Toyota</td>\n",
       "      <td>2018.0</td>\n",
       "      <td>1800000.0</td>\n",
       "      <td>24.0</td>\n",
       "      <td>NaN</td>\n",
       "      <td>Sedan</td>\n",
       "      <td>1.0 L</td>\n",
       "    </tr>\n",
       "    <tr>\n",
       "      <th>31</th>\n",
       "      <td>Honda</td>\n",
       "      <td>2020.0</td>\n",
       "      <td>2200000.0</td>\n",
       "      <td>NaN</td>\n",
       "      <td>CNG</td>\n",
       "      <td>NaN</td>\n",
       "      <td>1.5 L</td>\n",
       "    </tr>\n",
       "    <tr>\n",
       "      <th>32</th>\n",
       "      <td>Ford</td>\n",
       "      <td>2020.0</td>\n",
       "      <td>1500000.0</td>\n",
       "      <td>22.0</td>\n",
       "      <td>NaN</td>\n",
       "      <td>Hatchback</td>\n",
       "      <td>2.0 L</td>\n",
       "    </tr>\n",
       "    <tr>\n",
       "      <th>33</th>\n",
       "      <td>Chevrolet</td>\n",
       "      <td>2022.0</td>\n",
       "      <td>1200000.0</td>\n",
       "      <td>24.0</td>\n",
       "      <td>Petrol</td>\n",
       "      <td>Coupe</td>\n",
       "      <td>2.5 L</td>\n",
       "    </tr>\n",
       "  </tbody>\n",
       "</table>\n",
       "</div>"
      ],
      "text/plain": [
       "             Make    Year      Price  Milage  FuelType  \\\n",
       "0          Toyota  2010.0  2500000.0    18.0    Petrol   \n",
       "1           Honda  2012.0  2000000.0    20.0    Diesel   \n",
       "2            Ford  2015.0  1800000.0    22.0  Electric   \n",
       "3       Chevrolet  2018.0  2200000.0    25.0       CNG   \n",
       "4      Volkswagen  2022.0        NaN    24.0    Hybrid   \n",
       "5             NaN  2022.0  2500000.0    18.0    Petrol   \n",
       "6             BMW  2023.0  2000000.0    20.0    Diesel   \n",
       "7            Audi  2000.0  1800000.0    22.0  Electric   \n",
       "8   Mercedes-Benz  2000.0  2200000.0    25.0       CNG   \n",
       "9             NaN  2015.0        NaN    24.0    Hybrid   \n",
       "10         Toyota     NaN  2500000.0    18.0    Petrol   \n",
       "11          Honda  2019.0  2000000.0    20.0    Diesel   \n",
       "12           Ford  2022.0  1800000.0    22.0  Electric   \n",
       "13      Chevrolet  2019.0  2200000.0     NaN       CNG   \n",
       "14     Volkswagen  2018.0  2500000.0    24.0    Hybrid   \n",
       "15         Nissan  2018.0  2000000.0    18.0    Petrol   \n",
       "16            BMW  2018.0  1800000.0    20.0    Diesel   \n",
       "17           Audi  2015.0  2200000.0    22.0  Electric   \n",
       "18  Mercedes-Benz  2015.0  2500000.0     NaN       CNG   \n",
       "19        Hyundai  2019.0  2000000.0    24.0    Hybrid   \n",
       "20         Toyota  2022.0  1800000.0    18.0    Petrol   \n",
       "21          Honda  2019.0  2200000.0    20.0    Diesel   \n",
       "22           Ford  2018.0        NaN    22.0  Electric   \n",
       "23      Chevrolet  2018.0  2500000.0    25.0       CNG   \n",
       "24     Volkswagen     NaN  2000000.0    24.0    Hybrid   \n",
       "25         Nissan     NaN  1800000.0     NaN    Petrol   \n",
       "26            BMW  2019.0  2200000.0    18.0    Diesel   \n",
       "27           Audi  2022.0        NaN    20.0  Electric   \n",
       "28  Mercedes-Benz  2019.0  2500000.0    22.0       CNG   \n",
       "29        Hyundai  2018.0  2000000.0    25.0    Hybrid   \n",
       "30         Toyota  2018.0  1800000.0    24.0       NaN   \n",
       "31          Honda  2020.0  2200000.0     NaN       CNG   \n",
       "32           Ford  2020.0  1500000.0    22.0       NaN   \n",
       "33      Chevrolet  2022.0  1200000.0    24.0    Petrol   \n",
       "\n",
       "                       BodyType EngineSize  \n",
       "0                         Sedan      1.0 L  \n",
       "1   SUV (Sport Utility Vehicle)      1.5 L  \n",
       "2                     Hatchback      2.0 L  \n",
       "3                         Coupe      2.5 L  \n",
       "4                   Convertible      3.0 L  \n",
       "5                         Wagon      3.5 L  \n",
       "6                         Truck      4.0 L  \n",
       "7                           Van      4.5 L  \n",
       "8                       Minivan      5.0 L  \n",
       "9                        Pickup      5.5 L  \n",
       "10                        Sedan      1.0 L  \n",
       "11  SUV (Sport Utility Vehicle)      1.5 L  \n",
       "12                    Hatchback      2.0 L  \n",
       "13                        Coupe      2.5 L  \n",
       "14                  Convertible      3.0 L  \n",
       "15                        Wagon      3.5 L  \n",
       "16                        Truck      4.0 L  \n",
       "17                          Van      4.5 L  \n",
       "18                      Minivan      5.0 L  \n",
       "19                       Pickup      5.5 L  \n",
       "20                        Sedan      1.0 L  \n",
       "21  SUV (Sport Utility Vehicle)      1.5 L  \n",
       "22                    Hatchback      2.0 L  \n",
       "23                        Coupe      2.5 L  \n",
       "24                  Convertible      3.0 L  \n",
       "25                        Wagon      3.5 L  \n",
       "26                        Truck      4.0 L  \n",
       "27                          Van      4.5 L  \n",
       "28                      Minivan      5.0 L  \n",
       "29                       Pickup      5.5 L  \n",
       "30                        Sedan      1.0 L  \n",
       "31                          NaN      1.5 L  \n",
       "32                    Hatchback      2.0 L  \n",
       "33                        Coupe      2.5 L  "
      ]
     },
     "execution_count": 2,
     "metadata": {},
     "output_type": "execute_result"
    }
   ],
   "source": [
    "df = pd.read_csv(\"carsales.csv\")\n",
    "df"
   ]
  },
  {
   "cell_type": "code",
   "execution_count": 3,
   "id": "c7647736-9424-40e7-9893-0643eaafbb55",
   "metadata": {},
   "outputs": [
    {
     "data": {
      "text/html": [
       "<div>\n",
       "<style scoped>\n",
       "    .dataframe tbody tr th:only-of-type {\n",
       "        vertical-align: middle;\n",
       "    }\n",
       "\n",
       "    .dataframe tbody tr th {\n",
       "        vertical-align: top;\n",
       "    }\n",
       "\n",
       "    .dataframe thead th {\n",
       "        text-align: right;\n",
       "    }\n",
       "</style>\n",
       "<table border=\"1\" class=\"dataframe\">\n",
       "  <thead>\n",
       "    <tr style=\"text-align: right;\">\n",
       "      <th></th>\n",
       "      <th>Make</th>\n",
       "      <th>Year</th>\n",
       "      <th>Price</th>\n",
       "      <th>Milage</th>\n",
       "      <th>FuelType</th>\n",
       "      <th>BodyType</th>\n",
       "      <th>EngineSize</th>\n",
       "    </tr>\n",
       "  </thead>\n",
       "  <tbody>\n",
       "    <tr>\n",
       "      <th>0</th>\n",
       "      <td>Toyota</td>\n",
       "      <td>2010.0</td>\n",
       "      <td>2500000.0</td>\n",
       "      <td>18.0</td>\n",
       "      <td>Petrol</td>\n",
       "      <td>Sedan</td>\n",
       "      <td>1.0 L</td>\n",
       "    </tr>\n",
       "    <tr>\n",
       "      <th>1</th>\n",
       "      <td>Honda</td>\n",
       "      <td>2012.0</td>\n",
       "      <td>2000000.0</td>\n",
       "      <td>20.0</td>\n",
       "      <td>Diesel</td>\n",
       "      <td>SUV (Sport Utility Vehicle)</td>\n",
       "      <td>1.5 L</td>\n",
       "    </tr>\n",
       "    <tr>\n",
       "      <th>2</th>\n",
       "      <td>Ford</td>\n",
       "      <td>2015.0</td>\n",
       "      <td>1800000.0</td>\n",
       "      <td>22.0</td>\n",
       "      <td>Electric</td>\n",
       "      <td>Hatchback</td>\n",
       "      <td>2.0 L</td>\n",
       "    </tr>\n",
       "    <tr>\n",
       "      <th>3</th>\n",
       "      <td>Chevrolet</td>\n",
       "      <td>2018.0</td>\n",
       "      <td>2200000.0</td>\n",
       "      <td>25.0</td>\n",
       "      <td>CNG</td>\n",
       "      <td>Coupe</td>\n",
       "      <td>2.5 L</td>\n",
       "    </tr>\n",
       "    <tr>\n",
       "      <th>4</th>\n",
       "      <td>Volkswagen</td>\n",
       "      <td>2022.0</td>\n",
       "      <td>NaN</td>\n",
       "      <td>24.0</td>\n",
       "      <td>Hybrid</td>\n",
       "      <td>Convertible</td>\n",
       "      <td>3.0 L</td>\n",
       "    </tr>\n",
       "  </tbody>\n",
       "</table>\n",
       "</div>"
      ],
      "text/plain": [
       "         Make    Year      Price  Milage  FuelType  \\\n",
       "0      Toyota  2010.0  2500000.0    18.0    Petrol   \n",
       "1       Honda  2012.0  2000000.0    20.0    Diesel   \n",
       "2        Ford  2015.0  1800000.0    22.0  Electric   \n",
       "3   Chevrolet  2018.0  2200000.0    25.0       CNG   \n",
       "4  Volkswagen  2022.0        NaN    24.0    Hybrid   \n",
       "\n",
       "                      BodyType EngineSize  \n",
       "0                        Sedan      1.0 L  \n",
       "1  SUV (Sport Utility Vehicle)      1.5 L  \n",
       "2                    Hatchback      2.0 L  \n",
       "3                        Coupe      2.5 L  \n",
       "4                  Convertible      3.0 L  "
      ]
     },
     "execution_count": 3,
     "metadata": {},
     "output_type": "execute_result"
    }
   ],
   "source": [
    "df.head(5)"
   ]
  },
  {
   "cell_type": "code",
   "execution_count": 20,
   "id": "0510025f-296d-4993-9fab-5d1c08594b51",
   "metadata": {},
   "outputs": [
    {
     "name": "stdout",
     "output_type": "stream",
     "text": [
      "        Make    Year      Price  Milage FuelType   BodyType EngineSize\n",
      "0  Chevrolet  2018.0  1800000.0    22.0      CNG      Coupe      1.0 L\n",
      "1       Ford     NaN  2000000.0    24.0   Petrol  Hatchback      1.5 L\n",
      "2      Honda     NaN  2200000.0     NaN      NaN      Sedan      2.0 L\n",
      "3     Toyota     NaN  2500000.0     NaN      NaN        NaN      2.5 L\n"
     ]
    }
   ],
   "source": [
    "print(df.mode())"
   ]
  },
  {
   "cell_type": "code",
   "execution_count": 21,
   "id": "7cb4b2cd-787d-45c3-9afa-474b13ca7be1",
   "metadata": {},
   "outputs": [
    {
     "name": "stdout",
     "output_type": "stream",
     "text": [
      "Toyota           4\n",
      "Honda            4\n",
      "Ford             4\n",
      "Chevrolet        4\n",
      "Volkswagen       3\n",
      "BMW              3\n",
      "Audi             3\n",
      "Mercedes-Benz    3\n",
      "Nissan           2\n",
      "Hyundai          2\n",
      "Name: Make, dtype: int64\n"
     ]
    }
   ],
   "source": [
    "print(df['Make'].value_counts())"
   ]
  },
  {
   "cell_type": "code",
   "execution_count": 22,
   "id": "b3e45fa6-c62a-4974-ac8b-a48e43abc647",
   "metadata": {},
   "outputs": [
    {
     "data": {
      "text/plain": [
       "<pandas.core.groupby.generic.DataFrameGroupBy object at 0x7fc21114a820>"
      ]
     },
     "execution_count": 22,
     "metadata": {},
     "output_type": "execute_result"
    }
   ],
   "source": [
    "year = df.groupby('Year')\n",
    "year"
   ]
  },
  {
   "cell_type": "code",
   "execution_count": 24,
   "id": "c02ecd3a-880c-42f5-b135-e4706999ca2d",
   "metadata": {},
   "outputs": [
    {
     "data": {
      "text/html": [
       "<div>\n",
       "<style scoped>\n",
       "    .dataframe tbody tr th:only-of-type {\n",
       "        vertical-align: middle;\n",
       "    }\n",
       "\n",
       "    .dataframe tbody tr th {\n",
       "        vertical-align: top;\n",
       "    }\n",
       "\n",
       "    .dataframe thead th {\n",
       "        text-align: right;\n",
       "    }\n",
       "</style>\n",
       "<table border=\"1\" class=\"dataframe\">\n",
       "  <thead>\n",
       "    <tr style=\"text-align: right;\">\n",
       "      <th></th>\n",
       "      <th>Price</th>\n",
       "      <th>Milage</th>\n",
       "    </tr>\n",
       "    <tr>\n",
       "      <th>Year</th>\n",
       "      <th></th>\n",
       "      <th></th>\n",
       "    </tr>\n",
       "  </thead>\n",
       "  <tbody>\n",
       "    <tr>\n",
       "      <th>2000.0</th>\n",
       "      <td>2000000.0</td>\n",
       "      <td>23.5</td>\n",
       "    </tr>\n",
       "    <tr>\n",
       "      <th>2010.0</th>\n",
       "      <td>2500000.0</td>\n",
       "      <td>18.0</td>\n",
       "    </tr>\n",
       "    <tr>\n",
       "      <th>2012.0</th>\n",
       "      <td>2000000.0</td>\n",
       "      <td>20.0</td>\n",
       "    </tr>\n",
       "    <tr>\n",
       "      <th>2015.0</th>\n",
       "      <td>2200000.0</td>\n",
       "      <td>22.0</td>\n",
       "    </tr>\n",
       "    <tr>\n",
       "      <th>2018.0</th>\n",
       "      <td>2000000.0</td>\n",
       "      <td>24.0</td>\n",
       "    </tr>\n",
       "    <tr>\n",
       "      <th>2019.0</th>\n",
       "      <td>2200000.0</td>\n",
       "      <td>20.0</td>\n",
       "    </tr>\n",
       "    <tr>\n",
       "      <th>2020.0</th>\n",
       "      <td>1850000.0</td>\n",
       "      <td>22.0</td>\n",
       "    </tr>\n",
       "    <tr>\n",
       "      <th>2022.0</th>\n",
       "      <td>1800000.0</td>\n",
       "      <td>21.0</td>\n",
       "    </tr>\n",
       "    <tr>\n",
       "      <th>2023.0</th>\n",
       "      <td>2000000.0</td>\n",
       "      <td>20.0</td>\n",
       "    </tr>\n",
       "  </tbody>\n",
       "</table>\n",
       "</div>"
      ],
      "text/plain": [
       "            Price  Milage\n",
       "Year                     \n",
       "2000.0  2000000.0    23.5\n",
       "2010.0  2500000.0    18.0\n",
       "2012.0  2000000.0    20.0\n",
       "2015.0  2200000.0    22.0\n",
       "2018.0  2000000.0    24.0\n",
       "2019.0  2200000.0    20.0\n",
       "2020.0  1850000.0    22.0\n",
       "2022.0  1800000.0    21.0\n",
       "2023.0  2000000.0    20.0"
      ]
     },
     "execution_count": 24,
     "metadata": {},
     "output_type": "execute_result"
    }
   ],
   "source": [
    "a = year.median()\n",
    "a"
   ]
  },
  {
   "cell_type": "code",
   "execution_count": 30,
   "id": "f340a225-028b-45e3-9f16-10f5e67f9ddf",
   "metadata": {},
   "outputs": [
    {
     "data": {
      "image/png": "[encoded data removed]",
      "text/plain": [
       "<Figure size 432x288 with 1 Axes>"
      ]
     },
     "metadata": {
      "needs_background": "light"
     },
     "output_type": "display_data"
    }
   ],
   "source": [
    "plt.scatter(df['Price'], df['Milage'], marker=8)\n",
    "plt.title(\"Scatter Plot\")\n",
    "plt.xlabel(\"Mileage\")\n",
    "plt.ylabel(\"Price\")\n",
    "plt.grid(True)\n",
    "plt.show()"
   ]
  },
  {
   "cell_type": "code",
   "execution_count": 39,
   "id": "34ae261a-028b-402e-8c88-7691620374b1",
   "metadata": {},
   "outputs": [
    {
     "name": "stdout",
     "output_type": "stream",
     "text": [
      "      Make    Year      Price  Milage FuelType BodyType EngineSize\n",
      "0   Toyota  2010.0  2500000.0    18.0   Petrol    Sedan      1.0 L\n",
      "5      NaN  2022.0  2500000.0    18.0   Petrol    Wagon      3.5 L\n",
      "10  Toyota     NaN  2500000.0    18.0   Petrol    Sedan      1.0 L\n",
      "15  Nissan  2018.0  2000000.0    18.0   Petrol    Wagon      3.5 L\n",
      "20  Toyota  2022.0  1800000.0    18.0   Petrol    Sedan      1.0 L\n"
     ]
    }
   ],
   "source": [
    "print(df[df['FuelType']=='Petrol'].head(5))"
   ]
  },
  {
   "cell_type": "code",
   "execution_count": 43,
   "id": "1db27b99-5b5a-4b52-b2c9-e95b6b55d9c5",
   "metadata": {},
   "outputs": [
    {
     "name": "stdout",
     "output_type": "stream",
     "text": [
      "Make          2\n",
      "Year          3\n",
      "Price         4\n",
      "Milage        4\n",
      "FuelType      2\n",
      "BodyType      1\n",
      "EngineSize    0\n",
      "dtype: int64\n"
     ]
    }
   ],
   "source": [
    "print(df.isnull().sum())"
   ]
  },
  {
   "cell_type": "code",
   "execution_count": 44,
   "id": "d499060e-2aee-40b0-9593-d08d31e8f945",
   "metadata": {},
   "outputs": [
    {
     "data": {
      "text/plain": [
       "Sedan                          4\n",
       "Hatchback                      4\n",
       "Coupe                          4\n",
       "SUV (Sport Utility Vehicle)    3\n",
       "Convertible                    3\n",
       "Wagon                          3\n",
       "Truck                          3\n",
       "Van                            3\n",
       "Minivan                        3\n",
       "Pickup                         3\n",
       "Name: BodyType, dtype: int64"
      ]
     },
     "execution_count": 44,
     "metadata": {},
     "output_type": "execute_result"
    }
   ],
   "source": [
    "count = df['BodyType'].value_counts()\n",
    "count"
   ]
  },
  {
   "cell_type": "code",
   "execution_count": 51,
   "id": "7fa78076-72a6-406d-83c6-40ae2c11e2b6",
   "metadata": {},
   "outputs": [
    {
     "data": {
      "image/png": "[encoded data removed]",
      "text/plain": [
       "<Figure size 432x288 with 1 Axes>"
      ]
     },
     "metadata": {
      "needs_background": "light"
     },
     "output_type": "display_data"
    }
   ],
   "source": [
    "plt.bar(count.index, count)\n",
    "plt.title(\"Bar Chart\")\n",
    "plt.xlabel(\"Car Name\")\n",
    "plt.ylabel(\"Index Value\")\n",
    "plt.grid(True)\n",
    "plt.show()"
   ]
  },
  {
   "cell_type": "code",
   "execution_count": 60,
   "id": "f95dec18-3dbb-44a3-a3aa-55b54dd9e0ef",
   "metadata": {},
   "outputs": [
    {
     "name": "stdout",
     "output_type": "stream",
     "text": [
      "2.4540216425741286\n"
     ]
    }
   ],
   "source": [
    "print(np.std(df['Milage']))"
   ]
  },
  {
   "cell_type": "code",
   "execution_count": 63,
   "id": "a5c3d550-56e8-4b07-8245-911c052c6980",
   "metadata": {},
   "outputs": [
    {
     "data": {
      "image/png": "[encoded data removed]",
      "text/plain": [
       "<Figure size 432x288 with 1 Axes>"
      ]
     },
     "metadata": {
      "needs_background": "light"
     },
     "output_type": "display_data"
    }
   ],
   "source": [
    "plt.hist(df['Price'])\n",
    "plt.title(\"Histogram\")\n",
    "plt.xlabel(\"Price\")\n",
    "plt.ylabel(\"Frequency\")\n",
    "plt.grid(True)\n",
    "plt.show()"
   ]
  },
  {
   "cell_type": "code",
   "execution_count": 64,
   "id": "4cf1f14f-0ff8-42c3-8f3c-0813ab0fd90f",
   "metadata": {},
   "outputs": [
    {
     "name": "stdout",
     "output_type": "stream",
     "text": [
      "         Make    Year      Price  Milage FuelType   BodyType EngineSize\n",
      "29    Hyundai  2018.0  2000000.0    25.0   Hybrid     Pickup      5.5 L\n",
      "30     Toyota  2018.0  1800000.0    24.0      NaN      Sedan      1.0 L\n",
      "31      Honda  2020.0  2200000.0     NaN      CNG        NaN      1.5 L\n",
      "32       Ford  2020.0  1500000.0    22.0      NaN  Hatchback      2.0 L\n",
      "33  Chevrolet  2022.0  1200000.0    24.0   Petrol      Coupe      2.5 L\n"
     ]
    }
   ],
   "source": [
    "print(df[df['Year']>2015].tail())"
   ]
  },
  {
   "cell_type": "code",
   "execution_count": 69,
   "id": "3b1a7a86-23da-49d0-bbf7-b275a12b67c9",
   "metadata": {},
   "outputs": [
    {
     "name": "stdout",
     "output_type": "stream",
     "text": [
      "<class 'pandas.core.frame.DataFrame'>\n",
      "RangeIndex: 34 entries, 0 to 33\n",
      "Data columns (total 7 columns):\n",
      " #   Column      Non-Null Count  Dtype  \n",
      "---  ------      --------------  -----  \n",
      " 0   Make        32 non-null     object \n",
      " 1   Year        31 non-null     float64\n",
      " 2   Price       30 non-null     float64\n",
      " 3   Milage      30 non-null     float64\n",
      " 4   FuelType    32 non-null     object \n",
      " 5   BodyType    33 non-null     object \n",
      " 6   EngineSize  34 non-null     object \n",
      "dtypes: float64(3), object(4)\n",
      "memory usage: 2.0+ KB\n"
     ]
    }
   ],
   "source": [
    "df.info()"
   ]
  },
  {
   "cell_type": "code",
   "execution_count": 72,
   "id": "fe614a3a-f5ab-475c-bd4c-9a51bb66439a",
   "metadata": {},
   "outputs": [
    {
     "data": {
      "text/plain": [
       "pandas.core.series.Series"
      ]
     },
     "execution_count": 72,
     "metadata": {},
     "output_type": "execute_result"
    }
   ],
   "source": [
    "type(df['EngineSize'])"
   ]
  },
  {
   "cell_type": "code",
   "execution_count": 73,
   "id": "375f618d-a739-491a-a5bf-9395e13c3c4b",
   "metadata": {},
   "outputs": [
    {
     "ename": "TypeError",
     "evalue": "cannot convert the series to <class 'int'>",
     "output_type": "error",
     "traceback": [
      "\u001b[0;31m---------------------------------------------------------------------------\u001b[0m",
      "\u001b[0;31mTypeError\u001b[0m                                 Traceback (most recent call last)",
      "Input \u001b[0;32mIn [73]\u001b[0m, in \u001b[0;36m<cell line: 1>\u001b[0;34m()\u001b[0m\n\u001b[0;32m----> 1\u001b[0m df[\u001b[38;5;124m'\u001b[39m\u001b[38;5;124mEngineSize\u001b[39m\u001b[38;5;124m'\u001b[39m] \u001b[38;5;241m=\u001b[39m \u001b[38;5;28;43mint\u001b[39;49m\u001b[43m(\u001b[49m\u001b[43mdf\u001b[49m\u001b[43m[\u001b[49m\u001b[38;5;124;43m'\u001b[39;49m\u001b[38;5;124;43mEngineSize\u001b[39;49m\u001b[38;5;124;43m'\u001b[39;49m\u001b[43m]\u001b[49m\u001b[43m)\u001b[49m\n",
      "File \u001b[0;32m/opt/anaconda3/lib/python3.9/site-packages/pandas/core/series.py:191\u001b[0m, in \u001b[0;36m_coerce_method.<locals>.wrapper\u001b[0;34m(self)\u001b[0m\n\u001b[1;32m    189\u001b[0m \u001b[38;5;28;01mif\u001b[39;00m \u001b[38;5;28mlen\u001b[39m(\u001b[38;5;28mself\u001b[39m) \u001b[38;5;241m==\u001b[39m \u001b[38;5;241m1\u001b[39m:\n\u001b[1;32m    190\u001b[0m     \u001b[38;5;28;01mreturn\u001b[39;00m converter(\u001b[38;5;28mself\u001b[39m\u001b[38;5;241m.\u001b[39miloc[\u001b[38;5;241m0\u001b[39m])\n\u001b[0;32m--> 191\u001b[0m \u001b[38;5;28;01mraise\u001b[39;00m \u001b[38;5;167;01mTypeError\u001b[39;00m(\u001b[38;5;124mf\u001b[39m\u001b[38;5;124m\"\u001b[39m\u001b[38;5;124mcannot convert the series to \u001b[39m\u001b[38;5;132;01m{\u001b[39;00mconverter\u001b[38;5;132;01m}\u001b[39;00m\u001b[38;5;124m\"\u001b[39m)\n",
      "\u001b[0;31mTypeError\u001b[0m: cannot convert the series to <class 'int'>"
     ]
    }
   ],
   "source": [
    "df['EngineSize'] = int(df['EngineSize'])"
   ]
  },
  {
   "cell_type": "code",
   "execution_count": 86,
   "id": "8215511e-6c81-4e8c-8bda-b96219e993d7",
   "metadata": {},
   "outputs": [
    {
     "data": {
      "text/plain": [
       "14.45746056850806"
      ]
     },
     "execution_count": 86,
     "metadata": {},
     "output_type": "execute_result"
    }
   ],
   "source": [
    "# df['EngineSize']=df['EngineSize'].str.replace(r'\\D','').astype(int)\n",
    "df['EngineSize']=df['EngineSize'].astype(int)\n",
    "b=np.std(df['EngineSize'])\n",
    "b"
   ]
  }
 ],
 "metadata": {
  "kernelspec": {
   "display_name": "Python 3 (ipykernel)",
   "language": "python",
   "name": "python3"
  },
  "language_info": {
   "codemirror_mode": {
    "name": "ipython",
    "version": 3
   },
   "file_extension": ".py",
   "mimetype": "text/x-python",
   "name": "python",
   "nbconvert_exporter": "python",
   "pygments_lexer": "ipython3",
   "version": "3.9.12"
  }
 },
 "nbformat": 4,
 "nbformat_minor": 5
}
