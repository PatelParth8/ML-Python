{
 "cells": [
  {
   "cell_type": "code",
   "execution_count": 1,
   "metadata": {},
   "outputs": [],
   "source": [
    "import numpy as np"
   ]
  },
  {
   "cell_type": "code",
   "execution_count": 4,
   "metadata": {},
   "outputs": [
    {
     "name": "stdout",
     "output_type": "stream",
     "text": [
      "Array A : [1 2 3]\n",
      "Array B : [[1 2 3]\n",
      " [4 5 6]]\n"
     ]
    }
   ],
   "source": [
    "a = np.array([1,2,3])\n",
    "b = np.array([[1,2,3], [4,5,6]])\n",
    "\n",
    "print(\"Array A :\",a)\n",
    "print(\"Array B :\",b)"
   ]
  },
  {
   "cell_type": "code",
   "execution_count": 7,
   "metadata": {},
   "outputs": [
    {
     "name": "stdout",
     "output_type": "stream",
     "text": [
      "A : [1 2 3]\n",
      "a's ndim : 1\n",
      "a's shape : (3,)\n",
      "a's size : 3\n",
      "a's dtype : int64\n",
      "a's itemsize : 8\n"
     ]
    }
   ],
   "source": [
    "print(\"A :\",a)\n",
    "print(\"a's ndim :\", a.ndim)\n",
    "print(\"a's shape :\",a.shape)\n",
    "print(\"a's size :\",a.size)\n",
    "print(\"a's dtype :\",a.dtype)\n",
    "print(\"a's itemsize :\",a.itemsize)"
   ]
  },
  {
   "cell_type": "code",
   "execution_count": 8,
   "metadata": {},
   "outputs": [
    {
     "name": "stdout",
     "output_type": "stream",
     "text": [
      "B : [[1 2 3]\n",
      " [4 5 6]]\n",
      "b's ndim : 2\n",
      "b's shape : (2, 3)\n",
      "b's size : 6\n",
      "b's dtype : int64\n",
      "b's itemsize : 8\n"
     ]
    }
   ],
   "source": [
    "print(\"B :\",b)\n",
    "print(\"b's ndim :\",b.ndim)\n",
    "print(\"b's shape :\",b.shape)\n",
    "print(\"b's size :\",b.size)\n",
    "print(\"b's dtype :\",b.dtype)\n",
    "print(\"b's itemsize :\",b.itemsize)"
   ]
  },
  {
   "cell_type": "code",
   "execution_count": 2,
   "metadata": {},
   "outputs": [
    {
     "name": "stdout",
     "output_type": "stream",
     "text": [
      "np.zeros((2,3)) :\n",
      "[[0 0 0]\n",
      " [0 0 0]]\n"
     ]
    }
   ],
   "source": [
    "#Create Specific Array\n",
    "a = np.zeros((2,3), dtype=int)\n",
    "print(\"np.zeros((2,3)) :\")\n",
    "print(a)"
   ]
  },
  {
   "cell_type": "code",
   "execution_count": 11,
   "metadata": {},
   "outputs": [
    {
     "name": "stdout",
     "output_type": "stream",
     "text": [
      "np.ones((2,3)) :\n",
      "[[1. 1. 1.]\n",
      " [1. 1. 1.]]\n"
     ]
    }
   ],
   "source": [
    "b = np.ones((2,3))\n",
    "print(\"np.ones((2,3)) :\")\n",
    "print(b)"
   ]
  },
  {
   "cell_type": "code",
   "execution_count": 12,
   "metadata": {},
   "outputs": [
    {
     "name": "stdout",
     "output_type": "stream",
     "text": [
      "np.empty((2,3)) :\n",
      "[[1. 1. 1.]\n",
      " [1. 1. 1.]]\n"
     ]
    }
   ],
   "source": [
    "c = np.empty((2,3))\n",
    "print(\"np.empty((2,3)) :\")\n",
    "print(c)"
   ]
  },
  {
   "cell_type": "code",
   "execution_count": 13,
   "metadata": {},
   "outputs": [
    {
     "name": "stdout",
     "output_type": "stream",
     "text": [
      "np.arange(1, 2, 0.3) :\n",
      "[1.  1.3 1.6 1.9]\n"
     ]
    }
   ],
   "source": [
    "d = np.arange(1, 2, 0.3)\n",
    "print(\"np.arange(1, 2, 0.3) :\")\n",
    "print(d)"
   ]
  },
  {
   "cell_type": "code",
   "execution_count": 14,
   "metadata": {},
   "outputs": [
    {
     "name": "stdout",
     "output_type": "stream",
     "text": [
      "np.linspace(1, 2, 7) :\n",
      "[1.         1.16666667 1.33333333 1.5        1.66666667 1.83333333\n",
      " 2.        ]\n"
     ]
    }
   ],
   "source": [
    "e = np.linspace(1, 2, 7)\n",
    "print(\"np.linspace(1, 2, 7) :\")\n",
    "print(e)"
   ]
  },
  {
   "cell_type": "code",
   "execution_count": 16,
   "metadata": {},
   "outputs": [
    {
     "name": "stdout",
     "output_type": "stream",
     "text": [
      "np.random.random((2,3)) :\n",
      "[[0.18444305 0.70576    0.03068581]\n",
      " [0.41110427 0.69847774 0.98834705]]\n"
     ]
    }
   ],
   "source": [
    "f = np.random.random((2,3))\n",
    "print(\"np.random.random((2,3)) :\")\n",
    "print(f)"
   ]
  },
  {
   "cell_type": "code",
   "execution_count": 18,
   "metadata": {},
   "outputs": [
    {
     "name": "stdout",
     "output_type": "stream",
     "text": [
      "zer_line : [[0. 0. 0.]]\n",
      "one_column :\n",
      "[[1.]\n",
      " [1.]\n",
      " [1.]]\n"
     ]
    }
   ],
   "source": [
    "#Shape and Operation\n",
    "zero_line = np.zeros((1,3))\n",
    "one_column = np.ones((3,1))\n",
    "print(\"zer_line :\", zero_line)\n",
    "print(\"one_column :\")\n",
    "print(one_column)"
   ]
  },
  {
   "cell_type": "code",
   "execution_count": 20,
   "metadata": {},
   "outputs": [
    {
     "name": "stdout",
     "output_type": "stream",
     "text": [
      "Array1 :\n",
      "[[1 2 3]\n",
      " [4 5 6]]\n",
      "Array2 :\n",
      "[11 12 13 14 15 16 17 18 19]\n"
     ]
    }
   ],
   "source": [
    "a = np.array([[1,2,3], [4,5,6]])\n",
    "b = np.arange(11, 20)\n",
    "print(\"Array1 :\")\n",
    "print(a)\n",
    "print(\"Array2 :\")\n",
    "print(b)"
   ]
  },
  {
   "cell_type": "code",
   "execution_count": 21,
   "metadata": {},
   "outputs": [
    {
     "name": "stdout",
     "output_type": "stream",
     "text": [
      "[[11 12 13]\n",
      " [14 15 16]\n",
      " [17 18 19]]\n"
     ]
    }
   ],
   "source": [
    "b = b.reshape(3, -1)\n",
    "print(b)"
   ]
  },
  {
   "cell_type": "code",
   "execution_count": 22,
   "metadata": {},
   "outputs": [
    {
     "name": "stdout",
     "output_type": "stream",
     "text": [
      "[[ 1.  2.  3.]\n",
      " [ 4.  5.  6.]\n",
      " [11. 12. 13.]\n",
      " [14. 15. 16.]\n",
      " [17. 18. 19.]\n",
      " [ 0.  0.  0.]]\n"
     ]
    }
   ],
   "source": [
    "c = np.vstack((a, b, zero_line))\n",
    "print(c)"
   ]
  },
  {
   "cell_type": "code",
   "execution_count": 24,
   "metadata": {},
   "outputs": [
    {
     "name": "stdout",
     "output_type": "stream",
     "text": [
      "Array1 :\n",
      "[[1 2]\n",
      " [3 4]\n",
      " [5 6]]\n"
     ]
    }
   ],
   "source": [
    "a = a.reshape(3, 2)\n",
    "print(\"Array1 :\")\n",
    "print(a)"
   ]
  },
  {
   "cell_type": "code",
   "execution_count": 25,
   "metadata": {},
   "outputs": [
    {
     "name": "stdout",
     "output_type": "stream",
     "text": [
      "[[ 1.  2. 11. 12. 13.  1.]\n",
      " [ 3.  4. 14. 15. 16.  1.]\n",
      " [ 5.  6. 17. 18. 19.  1.]]\n"
     ]
    }
   ],
   "source": [
    "d = np.hstack((a, b, one_column))\n",
    "print(d)"
   ]
  },
  {
   "cell_type": "code",
   "execution_count": 27,
   "metadata": {},
   "outputs": [
    {
     "name": "stdout",
     "output_type": "stream",
     "text": [
      "Horizontal Split : [array([[1., 2.],\n",
      "       [3., 4.],\n",
      "       [5., 6.]]), array([[11., 12.],\n",
      "       [14., 15.],\n",
      "       [17., 18.]]), array([[13.,  1.],\n",
      "       [16.,  1.],\n",
      "       [19.,  1.]])]\n",
      "Center One Array : [[11. 12.]\n",
      " [14. 15.]\n",
      " [17. 18.]]\n"
     ]
    }
   ],
   "source": [
    "e = np.hsplit(d, 3)\n",
    "print(\"Horizontal Split :\",e)\n",
    "print(\"Center One Array :\",e[1])"
   ]
  },
  {
   "cell_type": "code",
   "execution_count": 28,
   "metadata": {},
   "outputs": [
    {
     "name": "stdout",
     "output_type": "stream",
     "text": [
      "Horizontal Split :\n",
      "[array([[1.],\n",
      "       [3.],\n",
      "       [5.]]), array([[ 2., 11.],\n",
      "       [ 4., 14.],\n",
      "       [ 6., 17.]]), array([[12., 13.,  1.],\n",
      "       [15., 16.,  1.],\n",
      "       [18., 19.,  1.]])]\n"
     ]
    }
   ],
   "source": [
    "f = np.hsplit(d, (1, 3))\n",
    "print(\"Horizontal Split :\")\n",
    "print(f)"
   ]
  },
  {
   "cell_type": "code",
   "execution_count": 29,
   "metadata": {},
   "outputs": [
    {
     "name": "stdout",
     "output_type": "stream",
     "text": [
      "Vertical Split :\n",
      "[array([[ 1.,  2., 11., 12., 13.,  1.]]), array([[ 3.,  4., 14., 15., 16.,  1.]]), array([[ 5.,  6., 17., 18., 19.,  1.]])]\n"
     ]
    }
   ],
   "source": [
    "g = np.vsplit(d, 3)\n",
    "print(\"Vertical Split :\")\n",
    "print(g)"
   ]
  },
  {
   "cell_type": "code",
   "execution_count": 3,
   "metadata": {},
   "outputs": [
    {
     "name": "stdout",
     "output_type": "stream",
     "text": [
      "Array :\n",
      "[100 101 102 103 104 105 106 107 108 109 110 111 112 113 114 115 116 117\n",
      " 118 119 120 121 122 123 124 125 126 127 128 129 130 131 132 133 134 135\n",
      " 136 137 138 139 140 141 142 143 144 145 146 147 148 149 150 151 152 153\n",
      " 154 155 156 157 158 159 160 161 162 163 164 165 166 167 168 169 170 171\n",
      " 172 173 174 175 176 177 178 179 180 181 182 183 184 185 186 187 188 189\n",
      " 190 191 192 193 194 195 196 197 198 199]\n",
      "110\n"
     ]
    }
   ],
   "source": [
    "#Index\n",
    "a = np.arange(100, 200)\n",
    "print(\"Array :\")\n",
    "print(a)\n",
    "print(a[10])"
   ]
  },
  {
   "cell_type": "code",
   "execution_count": 35,
   "metadata": {},
   "outputs": [
    {
     "name": "stdout",
     "output_type": "stream",
     "text": [
      "Array :\n",
      "[ 0  5 10 15 20 25 30 35 40 45 50 55 60 65 70 75 80 85 90 95]\n"
     ]
    }
   ],
   "source": [
    "b = np.arange(0, 100, 5)\n",
    "print(\"Array :\")\n",
    "print(b)"
   ]
  },
  {
   "cell_type": "code",
   "execution_count": 14,
   "metadata": {},
   "outputs": [
    {
     "name": "stdout",
     "output_type": "stream",
     "text": [
      "[[100 101 102 103 104 105 106 107 108 109]\n",
      " [110 111 112 113 114 115 116 117 118 119]\n",
      " [120 121 122 123 124 125 126 127 128 129]\n",
      " [130 131 132 133 134 135 136 137 138 139]\n",
      " [140 141 142 143 144 145 146 147 148 149]\n",
      " [150 151 152 153 154 155 156 157 158 159]\n",
      " [160 161 162 163 164 165 166 167 168 169]\n",
      " [170 171 172 173 174 175 176 177 178 179]\n",
      " [180 181 182 183 184 185 186 187 188 189]\n",
      " [190 191 192 193 194 195 196 197 198 199]]\n"
     ]
    }
   ],
   "source": [
    "a1 = a.reshape(10, -1)\n",
    "print(a1)"
   ]
  },
  {
   "cell_type": "code",
   "execution_count": 48,
   "metadata": {},
   "outputs": [
    {
     "name": "stdout",
     "output_type": "stream",
     "text": [
      "2nd Row Elemenst : [120 121 122 123 124 125 126 127 128 129]\n",
      "2nd Row and 3rd Column Element : 123\n",
      "Last Row and Last Element : 199\n",
      "Entire 2nd Row Elements : [120 121 122 123 124 125 126 127 128 129]\n",
      "Entire 3rd Column Elements : [103 113 123 133 143 153 163 173 183 193]\n",
      "2nd and 5th Element in Row & 2nd and 4th Element in Column :\n",
      "[[122 123]\n",
      " [132 133]\n",
      " [142 143]]\n"
     ]
    }
   ],
   "source": [
    "print(\"2nd Row Element :\",a1[2])\n",
    "print(\"2nd Row and 3rd Column Element :\", a1[2, 3])\n",
    "print(\"Last Row and Last Element :\", a1[-1, -1])\n",
    "print(\"Entire 2nd Row Elements :\", a1[2, :])\n",
    "print(\"Entire 3rd Column Elements :\", a1[:, 3])\n",
    "print(\"2nd and 5th Element in Row & 2nd and 4th Element in Column :\")\n",
    "print(a1[2:5, 2:4])"
   ]
  },
  {
   "cell_type": "code",
   "execution_count": 49,
   "metadata": {},
   "outputs": [
    {
     "name": "stdout",
     "output_type": "stream",
     "text": [
      "[[ 1.45461395e+01  4.91429449e+01  1.88770702e-02  2.31027316e+01\n",
      "  -1.09622094e+01]\n",
      " [ 3.03595489e+01  3.58034289e+01 -4.31452519e+01 -4.01262513e+01\n",
      "  -1.07552826e+01]\n",
      " [ 4.55170190e+00  2.15974972e+01 -2.66659062e+01  2.79238721e+01\n",
      "   2.42250564e+01]\n",
      " [-1.46340292e+01 -3.33707418e+01  3.85357534e+01 -4.07403406e+01\n",
      "  -2.33588474e+01]\n",
      " [ 3.25751572e+01 -6.35879543e+00  4.56373225e+00 -9.27149484e+00\n",
      "   9.83370510e+00]]\n"
     ]
    }
   ],
   "source": [
    "#Mathematics\n",
    "arr = (np.random.random((5, 5)) - 0.5) * 100\n",
    "print(arr)"
   ]
  },
  {
   "cell_type": "code",
   "execution_count": 52,
   "metadata": {},
   "outputs": [
    {
     "name": "stdout",
     "output_type": "stream",
     "text": [
      "Minimum : -43.14525185391484\n",
      "Maximum : 49.14294490138709\n",
      "Average : 2.2956398295195957\n",
      "Sum : 57.39099573798989\n",
      "Sin : [[ 0.91752989 -0.90120311  0.01887595 -0.89640149  0.99944344]\n",
      " [-0.87057889 -0.94768694  0.74266772 -0.65520443  0.9712686 ]\n",
      " [-0.98711759  0.3835631  -0.99929203  0.34333154 -0.78808071]\n",
      " [-0.87908256 -0.92716643  0.74239728 -0.10019551  0.9794465 ]\n",
      " [ 0.91649559 -0.0755381  -0.98897092 -0.15268358 -0.39762515]]\n"
     ]
    }
   ],
   "source": [
    "print(\"Minimum :\",np.amin(arr))\n",
    "print(\"Maximum :\",np.amax(arr))\n",
    "print(\"Average :\",np.average(arr))\n",
    "print(\"Sum :\",np.sum(arr))\n",
    "print(\"Sin :\",np.sin(arr))"
   ]
  },
  {
   "cell_type": "code",
   "execution_count": 53,
   "metadata": {},
   "outputs": [
    {
     "name": "stdout",
     "output_type": "stream",
     "text": [
      "[ 1  2  3  4  5  6  7  8  9 10 11 12 13 14 15 16 17 18 19]\n"
     ]
    }
   ],
   "source": [
    "arr = np.arange(1,20)\n",
    "print(arr)"
   ]
  },
  {
   "cell_type": "code",
   "execution_count": 57,
   "metadata": {},
   "outputs": [
    {
     "name": "stdout",
     "output_type": "stream",
     "text": [
      "Addition : [51 52 53 54 55 56 57 58 59 60 61 62 63 64 65 66 67 68 69]\n",
      "Addition of Array : [ 2  4  6  8 10 12 14 16 18 20 22 24 26 28 30 32 34 36 38]\n"
     ]
    }
   ],
   "source": [
    "add = arr + 50\n",
    "print(\"Addition :\",add)\n",
    "\n",
    "add1 = arr + arr\n",
    "print(\"Addition of Array :\",add1)"
   ]
  },
  {
   "cell_type": "code",
   "execution_count": 55,
   "metadata": {},
   "outputs": [
    {
     "name": "stdout",
     "output_type": "stream",
     "text": [
      "Subtraction : [0 0 0 0 0 0 0 0 0 0 0 0 0 0 0 0 0 0 0]\n"
     ]
    }
   ],
   "source": [
    "sub = arr - arr\n",
    "print(\"Subtraction :\",sub)"
   ]
  },
  {
   "cell_type": "code",
   "execution_count": 56,
   "metadata": {},
   "outputs": [
    {
     "name": "stdout",
     "output_type": "stream",
     "text": [
      "Multiplication : [  1   4   9  16  25  36  49  64  81 100 121 144 169 196 225 256 289 324\n",
      " 361]\n"
     ]
    }
   ],
   "source": [
    "mul = arr * arr\n",
    "print(\"Multiplication :\",mul)"
   ]
  },
  {
   "cell_type": "code",
   "execution_count": 59,
   "metadata": {},
   "outputs": [
    {
     "name": "stdout",
     "output_type": "stream",
     "text": [
      "Division : [1. 1. 1. 1. 1. 1. 1. 1. 1. 1. 1. 1. 1. 1. 1. 1. 1. 1. 1.]\n"
     ]
    }
   ],
   "source": [
    "div = arr / arr\n",
    "print(\"Division :\",div)"
   ]
  },
  {
   "cell_type": "code",
   "execution_count": 64,
   "metadata": {},
   "outputs": [
    {
     "name": "stdout",
     "output_type": "stream",
     "text": [
      "Square Root :\n",
      "[1.         1.41421356 1.73205081 2.         2.23606798 2.44948974\n",
      " 2.64575131 2.82842712 3.         3.16227766 3.31662479 3.46410162\n",
      " 3.60555128 3.74165739 3.87298335 4.         4.12310563 4.24264069\n",
      " 4.35889894]\n",
      "\n",
      "Exponentials :\n",
      "[2.71828183e+00 7.38905610e+00 2.00855369e+01 5.45981500e+01\n",
      " 1.48413159e+02 4.03428793e+02 1.09663316e+03 2.98095799e+03\n",
      " 8.10308393e+03 2.20264658e+04 5.98741417e+04 1.62754791e+05\n",
      " 4.42413392e+05 1.20260428e+06 3.26901737e+06 8.88611052e+06\n",
      " 2.41549528e+07 6.56599691e+07 1.78482301e+08]\n",
      "\n",
      "Sin :\n",
      "[ 0.84147098  0.90929743  0.14112001 -0.7568025  -0.95892427 -0.2794155\n",
      "  0.6569866   0.98935825  0.41211849 -0.54402111 -0.99999021 -0.53657292\n",
      "  0.42016704  0.99060736  0.65028784 -0.28790332 -0.96139749 -0.75098725\n",
      "  0.14987721]\n",
      "\n",
      "Cos :\n",
      "[ 0.54030231 -0.41614684 -0.9899925  -0.65364362  0.28366219  0.96017029\n",
      "  0.75390225 -0.14550003 -0.91113026 -0.83907153  0.0044257   0.84385396\n",
      "  0.90744678  0.13673722 -0.75968791 -0.95765948 -0.27516334  0.66031671\n",
      "  0.98870462]\n",
      "\n",
      "Log :\n",
      "[0.         0.69314718 1.09861229 1.38629436 1.60943791 1.79175947\n",
      " 1.94591015 2.07944154 2.19722458 2.30258509 2.39789527 2.48490665\n",
      " 2.56494936 2.63905733 2.7080502  2.77258872 2.83321334 2.89037176\n",
      " 2.94443898]\n",
      "\n",
      "Sum :\n",
      "190\n",
      "\n",
      "Standard Deviation :\n",
      "5.477225575051661\n",
      "\n"
     ]
    }
   ],
   "source": [
    "print(\"Square Root :\")\n",
    "print(np.sqrt(arr))\n",
    "print()\n",
    "print(\"Exponentials :\")\n",
    "print(np.exp(arr))\n",
    "print()\n",
    "print(\"Sin :\")\n",
    "print(np.sin(arr))\n",
    "print()\n",
    "print(\"Cos :\")\n",
    "print(np.cos(arr))\n",
    "print()\n",
    "print(\"Log :\")\n",
    "print(np.log(arr))\n",
    "print()\n",
    "print(\"Sum :\")\n",
    "print(np.sum(arr))\n",
    "print()\n",
    "print(\"Standard Deviation :\")\n",
    "print(np.std(arr))\n",
    "print()"
   ]
  },
  {
   "cell_type": "code",
   "execution_count": 66,
   "metadata": {},
   "outputs": [
    {
     "name": "stdout",
     "output_type": "stream",
     "text": [
      "[[ 44.  33. -19.  22.  24.]\n",
      " [ -9. -38. -36. -17.  15.]\n",
      " [ -4. -42.   8.   2. -44.]\n",
      " [  2. -38. -26. -37.   7.]\n",
      " [ 30. -49.  25. -48.  19.]]\n"
     ]
    }
   ],
   "source": [
    "#Matrix\n",
    "ar = np.floor((np.random.random((5, 5)) - 0.5) * 100)\n",
    "print(ar)"
   ]
  },
  {
   "cell_type": "code",
   "execution_count": 68,
   "metadata": {},
   "outputs": [
    {
     "name": "stdout",
     "output_type": "stream",
     "text": [
      "Transpose as T :\n",
      "[[ 44.  -9.  -4.   2.  30.]\n",
      " [ 33. -38. -42. -38. -49.]\n",
      " [-19. -36.   8. -26.  25.]\n",
      " [ 22. -17.   2. -37. -48.]\n",
      " [ 24.  15. -44.   7.  19.]]\n",
      "\n",
      "Transpose :\n",
      "[[ 44.  -9.  -4.   2.  30.]\n",
      " [ 33. -38. -42. -38. -49.]\n",
      " [-19. -36.   8. -26.  25.]\n",
      " [ 22. -17.   2. -37. -48.]\n",
      " [ 24.  15. -44.   7.  19.]]\n"
     ]
    }
   ],
   "source": [
    "print(\"Transpose as T :\")\n",
    "print(ar.T)\n",
    "print()\n",
    "print(\"Transpose :\")\n",
    "print(ar.transpose())"
   ]
  },
  {
   "cell_type": "code",
   "execution_count": 70,
   "metadata": {},
   "outputs": [
    {
     "name": "stdout",
     "output_type": "stream",
     "text": [
      "[[1. 1. 1. 1. 1.]\n",
      " [1. 1. 1. 1. 1.]\n",
      " [1. 1. 1. 1. 1.]\n",
      " [1. 1. 1. 1. 1.]\n",
      " [1. 1. 1. 1. 1.]]\n"
     ]
    }
   ],
   "source": [
    "matrix_one = np.ones((5, 5))\n",
    "print(matrix_one)"
   ]
  },
  {
   "cell_type": "code",
   "execution_count": 71,
   "metadata": {},
   "outputs": [
    {
     "name": "stdout",
     "output_type": "stream",
     "text": [
      "[[-1. -1. -1. -1. -1.]\n",
      " [-1. -1. -1. -1. -1.]\n",
      " [-1. -1. -1. -1. -1.]\n",
      " [-1. -1. -1. -1. -1.]\n",
      " [-1. -1. -1. -1. -1.]]\n"
     ]
    }
   ],
   "source": [
    "minus_one = np.dot(matrix_one, -1)\n",
    "print(minus_one)"
   ]
  },
  {
   "cell_type": "code",
   "execution_count": 73,
   "metadata": {},
   "outputs": [
    {
     "name": "stdout",
     "output_type": "stream",
     "text": [
      "[[-104. -104. -104. -104. -104.]\n",
      " [  85.   85.   85.   85.   85.]\n",
      " [  80.   80.   80.   80.   80.]\n",
      " [  92.   92.   92.   92.   92.]\n",
      " [  23.   23.   23.   23.   23.]]\n"
     ]
    }
   ],
   "source": [
    "print(np.dot(ar, minus_one))"
   ]
  },
  {
   "cell_type": "code",
   "execution_count": 75,
   "metadata": {},
   "outputs": [
    {
     "name": "stdout",
     "output_type": "stream",
     "text": [
      "Random : \n",
      "[0.7419972  0.53657522 0.0347992  0.57360629 0.16092321 0.89790897\n",
      " 0.94407809 0.84548761 0.72503909 0.37076695 0.48928905 0.57460477\n",
      " 0.40951487 0.08384614 0.39319067 0.49316437 0.75534055 0.56678123\n",
      " 0.36389612 0.0882709 ]\n"
     ]
    }
   ],
   "source": [
    "#Random Numbers\n",
    "print(\"Random : \")\n",
    "print(np.random.random(20))"
   ]
  },
  {
   "cell_type": "code",
   "execution_count": 77,
   "metadata": {},
   "outputs": [
    {
     "name": "stdout",
     "output_type": "stream",
     "text": [
      "Rand :\n",
      "[[0.19571429 0.47628065 0.11695689 0.45228938]\n",
      " [0.2481524  0.68038353 0.66026689 0.4156201 ]\n",
      " [0.11280282 0.63101126 0.21510801 0.85694775]]\n"
     ]
    }
   ],
   "source": [
    "print(\"Rand :\")\n",
    "print(np.random.rand(3,4))"
   ]
  },
  {
   "cell_type": "code",
   "execution_count": 78,
   "metadata": {},
   "outputs": [
    {
     "name": "stdout",
     "output_type": "stream",
     "text": [
      "randint :\n",
      "[55 31 69 59 34 95 64 13 28 89 65 94 35 54 86 67  2 52 66 59]\n"
     ]
    }
   ],
   "source": [
    "print(\"randint :\")\n",
    "print(np.random.randint(0, 100, 20))"
   ]
  },
  {
   "cell_type": "code",
   "execution_count": 80,
   "metadata": {},
   "outputs": [
    {
     "name": "stdout",
     "output_type": "stream",
     "text": [
      "Permutation :\n",
      "[ 4 11  1 19  5 17  8 23  2  0 14 18 12 24  3 15 21 22 10  7 20 16 13  9\n",
      "  6]\n"
     ]
    }
   ],
   "source": [
    "print(\"Permutation :\")\n",
    "print(np.random.permutation(np.arange(25)))"
   ]
  }
 ],
 "metadata": {
  "kernelspec": {
   "display_name": "Python 3",
   "language": "python",
   "name": "python3"
  },
  "language_info": {
   "codemirror_mode": {
    "name": "ipython",
    "version": 3
   },
   "file_extension": ".py",
   "mimetype": "text/x-python",
   "name": "python",
   "nbconvert_exporter": "python",
   "pygments_lexer": "ipython3",
   "version": "3.11.1"
  }
 },
 "nbformat": 4,
 "nbformat_minor": 2
}
